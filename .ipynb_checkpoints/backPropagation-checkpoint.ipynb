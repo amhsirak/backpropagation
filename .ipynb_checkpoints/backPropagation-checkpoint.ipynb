{
 "cells": [
  {
   "cell_type": "markdown",
   "id": "eeedd282",
   "metadata": {},
   "source": [
    "## Backpropagation implementation using Python"
   ]
  },
  {
   "cell_type": "markdown",
   "id": "e802c6b1",
   "metadata": {},
   "source": [
    "`layers` : A list of integers which represents the actual architecture of the feedforward network. For example, a value of [2, 2, 1] would imply that our first input layer has two nodes, our hidden layer has two nodes, and our final output layer has one node.\n",
    "\n",
    "`alpha` : specify the learning rate of our neural network. This value is applied during the weight update phase.\n"
   ]
  },
  {
   "cell_type": "code",
   "execution_count": 3,
   "id": "dd3323d4",
   "metadata": {},
   "outputs": [],
   "source": [
    "import numpy as np"
   ]
  },
  {
   "cell_type": "code",
   "execution_count": 5,
   "id": "815b6695",
   "metadata": {},
   "outputs": [],
   "source": [
    "class NeuralNetwork:\n",
    "    def __init__(self, layers, alpha=0.1):\n",
    "        # initialise the list of weight matrices\n",
    "        # store the network architecture & learning rate\n",
    "        self.W = []\n",
    "        self.layers = layers\n",
    "        self.alpha = alpha \n",
    "        # loop from index of 1st layer but \n",
    "        # stop before reaching last 2 layers\n",
    "        for i in np.arange(0, len(layers) - 2):\n",
    "            # randomly initialize a weight matrix \n",
    "            # connecting no. of nodes in each respective layer together,\n",
    "            # adding extra node for the bias\n",
    "            w = np.random.randn(layers[i] + 1, layers[i + 1] + 1)\n",
    "            # normalizing the variance of each neuron’s output\n",
    "            self.W.append(w / np.sqrt(layers[i]))\n",
    "            \n",
    "            # handling a special case where the input \n",
    "            # connections need a bias term \n",
    "            # but output does not\n",
    "            w = np.random.randn(layers[-2] + 1, layers[-1])\n",
    "            self.W.append(w / np.sqrt(layers[-2]))\n",
    "        \n",
    "        def __repr__(self):\n",
    "            # a string that represents the network architecture\n",
    "            return \"NeuralNetwork: {}\".format(\"-\".join(str(l) for l in self.layers))\n",
    "        "
   ]
  },
  {
   "cell_type": "markdown",
   "id": "00ecee62",
   "metadata": {},
   "source": [
    "format a string for our `NeuralNetwork` object by concatenating the integer value of the number of nodes in each layer. Given a layers value of (2, 2, 1), the output of calling this function will be:\n",
    "\n",
    "\n",
    "Neural Network: 2-2-1"
   ]
  },
  {
   "cell_type": "code",
   "execution_count": null,
   "id": "35791800",
   "metadata": {},
   "outputs": [],
   "source": []
  }
 ],
 "metadata": {
  "kernelspec": {
   "display_name": "Python 3",
   "language": "python",
   "name": "python3"
  },
  "language_info": {
   "codemirror_mode": {
    "name": "ipython",
    "version": 3
   },
   "file_extension": ".py",
   "mimetype": "text/x-python",
   "name": "python",
   "nbconvert_exporter": "python",
   "pygments_lexer": "ipython3",
   "version": "3.8.8"
  }
 },
 "nbformat": 4,
 "nbformat_minor": 5
}
