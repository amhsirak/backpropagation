{
 "cells": [
  {
   "cell_type": "markdown",
   "id": "f160d0bb",
   "metadata": {},
   "source": [
    "## Backpropagation implementation using Python"
   ]
  },
  {
   "cell_type": "markdown",
   "id": "979c02fc",
   "metadata": {},
   "source": [
    "All the parameters\n",
    "\n",
    "1. def  `__init__`: \n",
    "\n",
    "`layers`: A list of integers which represents the actual architecture of the feedforward network. For example, a value of [2, 2, 1] would imply that the first input layer has two nodes, the hidden layer has two nodes, and the final output layer has one node.\n",
    "\n",
    "`alpha`: specifies the learning rate of the neural network. This value is applied during the weight update phase.\n",
    "\n",
    "2. def `fit`: \n",
    "\n",
    "`X`: training data.\n",
    "\n",
    "`y`: corresponding class labels for each entry in `X`.\n",
    "\n",
    "`epochs`: the number of epochs we’ll train the network for.\n",
    "\n",
    "`displayUpdate`: simply controls how many N epochs we’ll print training progress to the terminal.\n",
    "\n",
    "3. def `fit_partial`:\n",
    "\n",
    "`x`: An individual data point from the design matrix.\n",
    "`y`: The corresponding class label.\n"
   ]
  },
  {
   "cell_type": "code",
   "execution_count": 3,
   "id": "38ec11cb",
   "metadata": {},
   "outputs": [],
   "source": [
    "import numpy as np"
   ]
  },
  {
   "cell_type": "code",
   "execution_count": 8,
   "id": "21fa4876",
   "metadata": {},
   "outputs": [],
   "source": [
    "class NeuralNetwork:\n",
    "    def __init__(self, layers, alpha=0.1):\n",
    "        # initialise the list of weight matrices\n",
    "        # store the network architecture & learning rate\n",
    "        self.W = []\n",
    "        self.layers = layers\n",
    "        self.alpha = alpha \n",
    "        # loop from index of 1st layer but \n",
    "        # stop before reaching last 2 layers\n",
    "        for i in np.arange(0, len(layers) - 2):\n",
    "            # randomly initialize a weight matrix \n",
    "            # connecting no. of nodes in each respective layer together,\n",
    "            # adding extra node for the bias\n",
    "            w = np.random.randn(layers[i] + 1, layers[i + 1] + 1)\n",
    "            # normalizing the variance of each neuron’s output\n",
    "            self.W.append(w / np.sqrt(layers[i]))\n",
    "            \n",
    "            # handling a special case where the input \n",
    "            # connections need a bias term \n",
    "            # but output does not\n",
    "            w = np.random.randn(layers[-2] + 1, layers[-1])\n",
    "            self.W.append(w / np.sqrt(layers[-2]))\n",
    "        \n",
    "        def __repr__(self):\n",
    "            # a string that represents the network architecture\n",
    "            return \"NeuralNetwork: {}\".format(\"-\".join(str(l) for l in self.layers))\n",
    "        \n",
    "        def sigmoid(self, x):\n",
    "            return 1.0 / (1 + np.exp(-x))\n",
    "        \n",
    "        def sigmoid_deriv(self, x):\n",
    "            # assume x has already been passed through sigmoid\n",
    "            return x * (1-x)\n",
    "        \n",
    "        ### Training the Neural Network ###\n",
    "        \n",
    "        def fit(self, x, y, epochs=1000, displayUpdate=100):\n",
    "            # insert a columns of 1's as last entry in the feature matrix\n",
    "            # to allow us create a bias as a trainable parameter with the weight matrix\n",
    "            X = np.c_[X, np.ones((X.shape[0]))]\n",
    "            \n",
    "            for epoch in np.arange(0, epochs):\n",
    "                # loop over individual data point and train NN on it\n",
    "                for (x, target) in zip(X, y):\n",
    "                    self.fit_partial(x, target)\n",
    "                    \n",
    "                    # check to see if we should display a training update\n",
    "                    if epoch == 0 or (epoch + 1) % displayUpdate == 0:\n",
    "                        loss = self.calculate_loss(X, y)\n",
    "                        print(\"[INFO] epoch={}, loss={:.7f}\".format(epoch + 1, loss))\n",
    "                        \n",
    "        def fit_partial(self, x, y):\n",
    "            # construct the list of output activations for each layer\n",
    "            # as the data point flows through the network; the first\n",
    "            # activation is a special case -- it's just the input\n",
    "            # feature vector itself\n",
    "            A = [np.atleast_2d(x)]"
   ]
  },
  {
   "cell_type": "markdown",
   "id": "064e3a8b",
   "metadata": {},
   "source": []
  }
 ],
 "metadata": {
  "kernelspec": {
   "display_name": "Python 3",
   "language": "python",
   "name": "python3"
  },
  "language_info": {
   "codemirror_mode": {
    "name": "ipython",
    "version": 3
   },
   "file_extension": ".py",
   "mimetype": "text/x-python",
   "name": "python",
   "nbconvert_exporter": "python",
   "pygments_lexer": "ipython3",
   "version": "3.8.8"
  }
 },
 "nbformat": 4,
 "nbformat_minor": 5
}
